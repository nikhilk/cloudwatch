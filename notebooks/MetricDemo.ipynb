{
 "metadata": {
  "name": "",
  "signature": "sha256:c0abb5e12e143998e824de10bac77ce9ec4cc919ee0fef7494fee185676526ab"
 },
 "nbformat": 3,
 "nbformat_minor": 0,
 "worksheets": [
  {
   "cells": [
    {
     "cell_type": "code",
     "collapsed": false,
     "input": [
      "from __future__ import division\n",
      "import numpy as np\n",
      "import matplotlib.pyplot as plot\n",
      "import gcp.bigquery as bq"
     ],
     "language": "python",
     "metadata": {},
     "outputs": [],
     "prompt_number": 8
    },
    {
     "cell_type": "heading",
     "level": 1,
     "metadata": {},
     "source": [
      "The SQL - 99% Latency For the \"Recent\" Endpoint"
     ]
    },
    {
     "cell_type": "code",
     "collapsed": false,
     "input": [
      "%%bq_sql latency\n",
      "SELECT INTEGER(timestamp / 300000000) * 300000000 AS window,\n",
      "       NTH(99, QUANTILES(latency, 100)) as latency\n",
      "FROM [cloud-datalab:sampledata.requestlogs_20140615]\n",
      "WHERE endpoint = 'Recent'\n",
      "GROUP BY window\n",
      "ORDER by window"
     ],
     "language": "python",
     "metadata": {},
     "outputs": [],
     "prompt_number": 3
    },
    {
     "cell_type": "code",
     "collapsed": false,
     "input": [
      "latency.sample(count = 5)"
     ],
     "language": "python",
     "metadata": {},
     "outputs": [
      {
       "html": [
        "<div>Number of rows: 5</div><div>Query job ID  : job_LNLsw0QbrG2qgurlgVynUFCieM0</div><table><tr><th>latency</th><th>window</th></tr><tr><td>427</td><td>1402815600000000</td></tr><tr><td>329</td><td>1402815900000000</td></tr><tr><td>293</td><td>1402816200000000</td></tr><tr><td>242</td><td>1402817400000000</td></tr><tr><td>332</td><td>1402818000000000</td></tr></table>"
       ],
       "metadata": {},
       "output_type": "pyout",
       "prompt_number": 5,
       "text": [
        "[{u'latency': 427, u'window': 1402815600000000},\n",
        " {u'latency': 329, u'window': 1402815900000000},\n",
        " {u'latency': 293, u'window': 1402816200000000},\n",
        " {u'latency': 242, u'window': 1402817400000000},\n",
        " {u'latency': 332, u'window': 1402818000000000}]"
       ]
      }
     ],
     "prompt_number": 5
    },
    {
     "cell_type": "heading",
     "level": 2,
     "metadata": {},
     "source": [
      "Visualizing a Time Series"
     ]
    },
    {
     "cell_type": "code",
     "collapsed": false,
     "input": [
      "latency_timeseries = latency.results().to_dataframe()['latency'].values\n",
      "latency_timeseries_length = len(latency_timeseries)"
     ],
     "language": "python",
     "metadata": {},
     "outputs": [],
     "prompt_number": 6
    },
    {
     "cell_type": "code",
     "collapsed": false,
     "input": [
      "latency_ticks = np.array(range(latency_timeseries_length))\n",
      "\n",
      "plot.plot(latency_ticks, latency_timeseries)\n",
      "plot.yscale('log')\n",
      "plot.grid()"
     ],
     "language": "python",
     "metadata": {},
     "outputs": [
      {
       "metadata": {},
       "output_type": "display_data",
       "png": "[encoded data removed]",
       "text": [
        "<matplotlib.figure.Figure at 0x7fdcc40ba190>"
       ]
      }
     ],
     "prompt_number": 9
    },
    {
     "cell_type": "heading",
     "level": 1,
     "metadata": {},
     "source": [
      "Building the Metric"
     ]
    },
    {
     "cell_type": "code",
     "collapsed": false,
     "input": [
      "from collections import namedtuple\n",
      "Metric = namedtuple(\"Metric\", \"name items\")\n",
      "\n",
      "metric1 = Metric('latency', list(latency.results()))"
     ],
     "language": "python",
     "metadata": {},
     "outputs": [],
     "prompt_number": 10
    }
   ],
   "metadata": {}
  }
 ]
}