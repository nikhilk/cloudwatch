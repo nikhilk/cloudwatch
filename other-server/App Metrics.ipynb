{
 "metadata": {
  "name": "",
  "signature": "sha256:2c7af0c728db168c8fb8b74604c04b8b7bf1fb888a32f52e1796338ea0f7cf4a"
 },
 "nbformat": 3,
 "nbformat_minor": 0,
 "worksheets": [
  {
   "cells": [
    {
     "cell_type": "markdown",
     "metadata": {},
     "source": [
      "Contract for app metrics\n",
      "========================"
     ]
    },
    {
     "cell_type": "code",
     "collapsed": false,
     "input": [
      "import gcp\n",
      "import gcp.bigquery as bq"
     ],
     "language": "python",
     "metadata": {},
     "outputs": [],
     "prompt_number": 122
    },
    {
     "cell_type": "markdown",
     "metadata": {},
     "source": [
      "Latency metric\n",
      "-------------"
     ]
    },
    {
     "cell_type": "code",
     "collapsed": false,
     "input": [
      "# Do a date shift to lookup calls for same time in June since we have logs for June 15\n",
      "# todo: parameterize the following query for date shift\n",
      "latency_query = bq.query('select integer(TIMESTAMP_TO_USEC(timestamp)/1000000) as timestamp, latency as value from [cloud-datalab:sampledata.requestlogs_20140615] where DATE_ADD(timestamp, 168, \"DAY\") < NOW() order by timestamp desc limit 3;')\n",
      "latency_results = latency_query.results()\n",
      "\n",
      "# View rows in the result as a list without the rest of the QueryResults members\n",
      "rows = list(latency_results)\n",
      "\n",
      "# Write the results in expected form\n",
      "from collections import namedtuple\n",
      "Metric = namedtuple(\"Metric\", \"name items\")\n",
      "# Use the raw list without the other members of QueryResults object\n",
      "# Consuming app requires a specific structure and does not allow arbitrary schema\n",
      "metric1 = Metric('latency', list(latency_results))\n",
      "#metric1"
     ],
     "language": "python",
     "metadata": {},
     "outputs": [],
     "prompt_number": 124
    },
    {
     "cell_type": "markdown",
     "metadata": {},
     "source": [
      "CPU metric\n",
      "---------"
     ]
    },
    {
     "cell_type": "code",
     "collapsed": false,
     "input": [
      "# Use generated data for this metric\n",
      "cpu_results = bq.query('select integer(TIMESTAMP_TO_USEC(time)/1000000) as timestamp, value from [SampleMetrics.PseudoRandomNumbers1] order by timestamp desc limit 3').results()\n",
      "metric2 = Metric('cpu', list(cpu_results))\n",
      "#metric2"
     ],
     "language": "python",
     "metadata": {},
     "outputs": [],
     "prompt_number": 125
    },
    {
     "cell_type": "code",
     "collapsed": false,
     "input": [
      "metric_results = []\n",
      "metric_results.append(metric1)\n",
      "metric_results.append(metric2)\n",
      "#metric_results"
     ],
     "language": "python",
     "metadata": {},
     "outputs": [
      {
       "metadata": {},
       "output_type": "pyout",
       "prompt_number": 126,
       "text": [
        "[Metric(name='latency', items=[{u'timestamp': 1402868860, u'value': 208}, {u'timestamp': 1402868860, u'value': 568}, {u'timestamp': 1402868860, u'value': 32}]),\n",
        " Metric(name='cpu', items=[{u'timestamp': 1417325793, u'value': 34}, {u'timestamp': 1417325783, u'value': 34}, {u'timestamp': 1417325773, u'value': 24}])]"
       ]
      }
     ],
     "prompt_number": 126
    },
    {
     "cell_type": "code",
     "collapsed": false,
     "input": [],
     "language": "python",
     "metadata": {},
     "outputs": [],
     "prompt_number": 119
    }
   ],
   "metadata": {}
  }
 ]
}